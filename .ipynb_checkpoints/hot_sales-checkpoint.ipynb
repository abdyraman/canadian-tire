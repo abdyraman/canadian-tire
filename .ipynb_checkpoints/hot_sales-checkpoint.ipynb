{
 "cells": [
  {
   "cell_type": "code",
   "execution_count": 33,
   "id": "9a7cc490",
   "metadata": {},
   "outputs": [],
   "source": [
    "# Import dependencies\n",
    "from splinter import Browser\n",
    "from bs4 import BeautifulSoup\n",
    "\n",
    "# Launch the browser\n",
    "browser = Browser('chrome')\n"
   ]
  },
  {
   "cell_type": "code",
   "execution_count": 34,
   "id": "07ee3fc4",
   "metadata": {},
   "outputs": [],
   "source": [
    "# Set up Splinter\n",
    "browser = Browser('chrome')"
   ]
  },
  {
   "cell_type": "code",
   "execution_count": 35,
   "id": "fcd499dd",
   "metadata": {},
   "outputs": [],
   "source": [
    "# Visit the Mars NASA news site\n",
    "url = 'https://www.canadiantire.ca/en/promotions/hot-sale/home-pet.html'\n",
    "browser.visit(url)"
   ]
  },
  {
   "cell_type": "code",
   "execution_count": 36,
   "id": "569cca1d",
   "metadata": {},
   "outputs": [],
   "source": [
    "# Save the HTML from the browser\n",
    "html = browser.html\n",
    "# Create a BeautifulSoup object from the HTML\n",
    "soup = BeautifulSoup(html, 'html.parser')"
   ]
  },
  {
   "cell_type": "code",
   "execution_count": 40,
   "id": "f1a984e6",
   "metadata": {},
   "outputs": [],
   "source": [
    "# Find all divs that contain a question\n",
    "body=soup.find('body')"
   ]
  },
  {
   "cell_type": "code",
   "execution_count": 42,
   "id": "60c861ff",
   "metadata": {},
   "outputs": [],
   "source": [
    "stars_numofreviews=body.find_all('div',class_='bv_text')"
   ]
  },
  {
   "cell_type": "code",
   "execution_count": 44,
   "id": "daeb2f47",
   "metadata": {},
   "outputs": [],
   "source": [
    "nameofthegoods=body.find_all('div',class_='nl-product-card__title nl-product--trim')"
   ]
  },
  {
   "cell_type": "code",
   "execution_count": 47,
   "id": "c6f2d624",
   "metadata": {},
   "outputs": [],
   "source": [
    "price=body.find_all('div',class_='nl-price--charge')"
   ]
  },
  {
   "cell_type": "code",
   "execution_count": 54,
   "id": "ea86a033",
   "metadata": {},
   "outputs": [],
   "source": [
    "savings=body.find_all('div',class_='nl-price__save-story')"
   ]
  },
  {
   "cell_type": "code",
   "execution_count": 55,
   "id": "b30d0cbb",
   "metadata": {},
   "outputs": [
    {
     "name": "stdout",
     "output_type": "stream",
     "text": [
      "MASTER Chef Energy Star Compact Refrigerator with Internal Freezer & Reversible Door for Dorms/Bedroom, 3.3-cu.ft., White 4.4 $169.99 Save 30% ($80)\n",
      "Sauder 3-Door Wardrobe/Armoire Clothes Storage Cabinet With Hanger Rod & Shelves, Espresso (246) $189.99 Save 35% ($110)\n",
      "For Living 30 Pint 2-Speed Dehumidifier, Bucket/Continuous Drain, ENERGY STAR® Certified, White 3.8 $219.99 Save 20% ($60)\n",
      "Ninja® Dual Zone Air Fryer w/ 4-in-1 Functions, Stainless Steel, Black, 7.5-L (93) $189.99 Save 25% ($80)\n",
      "Bissell ProHeat 2X® Revolution™ Pet Pro Upright Carpet & Upholstery Deep Cleaner 4.4 $299.99 1/2 Price (Save $300)\n",
      "Vida by PADERNO Air Fryer, 5.3-L (179) $99.99 1/2 Price (Save $100)\n",
      "Lagostina 5-Ply Copper Clad Stainless Steel Cookware Set & Oven Safe, 12-pc 4.7 $499.99 Save 80% ($2000)\n",
      "Tineco iCarpet Portable Lightweight Upright Carpet Vacuum Cleaner (1052) $149.99 Save 70% ($350)\n",
      "MASTER Chef Countertop Microwave, 0.7-cu.ft. 4.6 From $79.99 Save up to 20%\n",
      "For Living 4-Door Open Shelf Freestanding Kitchen Pantry Storage Cabinet, White (3912) $209.99 Save 30% ($100)\n",
      "For Living Portable Vinyl Upholstered & Padded Metal Folding Chair, Black 4.2 $14.99 Save 25%\n",
      "For Living Wood Top Open Shelf Kitchen Storage Island With Folding Leaf, White (73) $299.99 Save 30% ($150)\n",
      "Lagostina Artiste-Clad Hand Hammered Stainless Steel Cookware Set, Oven Safe, 12-pc 4.3 $299.99 Save 80% ($1300)\n",
      "Heritage The Rock Forged Non-Stick Cookware Set, Dishwasher & Oven Safe, Black, 10-pc (126) $149.99 Save 75% ($450)\n",
      "For Living 6-ft Portable Indoor/Outdoor Plastic & Metal Folding Table with Handle, White 4.3 $59.99 Save 25%\n",
      "Tineco iFloor 3 Ultra Lightweight Cordless Wet/Dry Vacuum & Hard Floor Washer (60) $349.99 Save 30% ($150)\n",
      "Drive 4-Wheel Folding Aluminum Rollator with Seat, Backrest & Handbrake, Assorted Colours, 32-37-in Height 4.2 From $129.99 Save up to 50% (up to $130)\n",
      "BISSELL Adapt Li-Ion Max 2-in-1 Lightweight Cordless Stick Vacuum Cleaner (333) $129.99 1/2 Price (Save $130)\n",
      "type A Restore Stackable Storage Box with Lid, 68-L, Red 3.8 $7.99 1/2 Price\n",
      "Bissell Proheat2x® Revolution™ Pet Carpet & Upholstery Deep Cleaner (196) $249.99 1/2 Price (Save $250)\n",
      "Sauder 2-Door Wardrobe/Armoire Clothes Storage Cabinet With Hanger Rod & Shelves, Espresso 4.0 $139.99 Save 35% ($90)\n",
      "For Living Orleans 2-Door Over-The-Toilet Spacesaver Bathroom Storage Cabinet, White (177) $79.99 1/3 Off (Save $40)\n",
      "type A Restore Stackable Storage Box with Lid, 68-L, Green 4.2 $7.99 1/2 Price\n",
      "Certified 5-Shelf Resin/ Plastic Storage Rack/ Shelving Unit, 36 x 24 x 72-in (203) $54.99 Save 30% ($25)\n"
     ]
    }
   ],
   "source": [
    "for i in range(len(nameofthegoods)):\n",
    "    print(nameofthegoods[i].text.strip(),stars_numofreviews[i].text.strip(),price[i].text.strip(),savings[i].text.strip())"
   ]
  },
  {
   "cell_type": "code",
   "execution_count": null,
   "id": "ea1f3916",
   "metadata": {},
   "outputs": [],
   "source": []
  }
 ],
 "metadata": {
  "kernelspec": {
   "display_name": "Python 3 (ipykernel)",
   "language": "python",
   "name": "python3"
  },
  "language_info": {
   "codemirror_mode": {
    "name": "ipython",
    "version": 3
   },
   "file_extension": ".py",
   "mimetype": "text/x-python",
   "name": "python",
   "nbconvert_exporter": "python",
   "pygments_lexer": "ipython3",
   "version": "3.9.13"
  }
 },
 "nbformat": 4,
 "nbformat_minor": 5
}
