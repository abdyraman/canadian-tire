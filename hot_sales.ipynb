{
 "cells": [
  {
   "cell_type": "code",
   "execution_count": 84,
   "id": "9a7cc490",
   "metadata": {},
   "outputs": [],
   "source": [
    "# Import dependencies\n",
    "from splinter import Browser\n",
    "from bs4 import BeautifulSoup"
   ]
  },
  {
   "cell_type": "code",
   "execution_count": 85,
   "id": "07ee3fc4",
   "metadata": {},
   "outputs": [],
   "source": [
    "# Set up Splinter\n",
    "browser = Browser('chrome')"
   ]
  },
  {
   "cell_type": "code",
   "execution_count": 86,
   "id": "fcd499dd",
   "metadata": {},
   "outputs": [],
   "source": [
    "# Visit the Mars NASA news site\n",
    "for i in range(1, 31):\n",
    "    url = f'https://www.canadiantire.ca/en/promotions/hot-sale/home-pet.html?page={i}'\n",
    "    browser.visit(url)  # Assuming you have initialized and defined 'browser' elsewhere in your code\n"
   ]
  },
  {
   "cell_type": "code",
   "execution_count": 87,
   "id": "c814739a",
   "metadata": {},
   "outputs": [],
   "source": [
    "# Save the HTML from the browser\n",
    "html = browser.html\n",
    "# Create a BeautifulSoup object from the HTML\n",
    "soup = BeautifulSoup(html, 'html.parser')"
   ]
  },
  {
   "cell_type": "code",
   "execution_count": 94,
   "id": "f1a984e6",
   "metadata": {},
   "outputs": [],
   "source": [
    "# Find all divs that contain information\n",
    "body=soup.find('body')"
   ]
  },
  {
   "cell_type": "code",
   "execution_count": 95,
   "id": "0b69e342",
   "metadata": {},
   "outputs": [],
   "source": [
    "stars_numofreviews=body.find_all('div',class_='bv_text')\n",
    "nameofthegoods=body.find_all('div',class_='nl-product-card__title nl-product--trim')\n",
    "price=body.find_all('div',class_='nl-price--charge')\n",
    "savings=body.find_all('div',class_='nl-price__save-story')"
   ]
  },
  {
   "cell_type": "code",
   "execution_count": 103,
   "id": "6d4040b0",
   "metadata": {},
   "outputs": [
    {
     "data": {
      "text/plain": [
       "[<div class=\"nl-product-card__title nl-product--trim\" id=\"title__promolisting-142-6950-4\">Chewmasters Chomp Dog Bar</div>,\n",
       " <div class=\"nl-product-card__title nl-product--trim\" id=\"title__promolisting-142-7431-4\">Petco Party Animal Plush Dog Toy</div>,\n",
       " <div class=\"nl-product-card__title nl-product--trim\" id=\"title__promolisting-153-1845-0\">Dawn EZ-Squeeze Ultra Dish Soap, Apple Blossom Scent, 650ml</div>,\n",
       " <div class=\"nl-product-card__title nl-product--trim\" id=\"title__promolisting-142-6958-8\">Chuckit Amphibious Fetch Balls, 3-pk</div>,\n",
       " <div class=\"nl-product-card__title nl-product--trim\" id=\"title__promolisting-035-6234-6\">ApexFit E02L Smartwatch with Touchscreen Display</div>,\n",
       " <div class=\"nl-product-card__title nl-product--trim\" id=\"title__promolisting-043-7122-6\">NOMA SurfaceElite™ High Power Bagless Corded Upright Vacuum Cleaner</div>,\n",
       " <div class=\"nl-product-card__title nl-product--trim\" id=\"title__promolisting-037-4638-4\">MotoMaster 3-in-1 LED Work Light</div>,\n",
       " <div class=\"nl-product-card__title nl-product--trim\" id=\"title__promolisting-142-6951-2\">Chewmasters Mutt Dog Bar</div>,\n",
       " <div class=\"nl-product-card__title nl-product--trim\" id=\"title__promolisting-153-1842-6\">Mr. Clean Clean Freak Zero Deep Cleaning Mist, Lavender Scent Refill, 1 count, 473mL</div>,\n",
       " <div class=\"nl-product-card__title nl-product--trim\" id=\"title__promolisting-142-7430-6\">Petco Plush Llama Corn Dog Toy</div>,\n",
       " <div class=\"nl-product-card__title nl-product--trim\" id=\"title__promolisting-043-0322-2\">Ninja Single Serve Dual Brew Coffee Maker, Brews Grounds &amp; Pods, Black, 6-Cup</div>,\n",
       " <div class=\"nl-product-card__title nl-product--trim\" id=\"title__promolisting-153-0893-0\">Invisible Glass Streak-Free Household Glass Wipes, Disposable, 40-pc</div>,\n",
       " <div class=\"nl-product-card__title nl-product--trim\" id=\"title__promolisting-153-1817-8\">Palmolive Ultra Oxy Liquid Dish Soap Detergent, Fresh Scent, 961-mL</div>,\n",
       " <div class=\"nl-product-card__title nl-product--trim\" id=\"title__promolisting-043-9011-8\">Bodum Adjustable Blade Coffee Grinder with 5 Grind Settings, Black, 12-Cup</div>,\n",
       " <div class=\"nl-product-card__title nl-product--trim\" id=\"title__promolisting-043-9022-2\">Black &amp; Decker Non-Stick Rice Cooker &amp; Steamer, 28 Cups</div>,\n",
       " <div class=\"nl-product-card__title nl-product--trim\" id=\"title__promolisting-153-1847-6\">Dawn Ultra Oxi Dish Soap, Dishwashing Liquid, Lemon Scent, 2.21 L</div>,\n",
       " <div class=\"nl-product-card__title nl-product--trim\" id=\"title__promolisting-035-8092-0\">Jabra Elite 2 True Wireless Earbuds</div>,\n",
       " <div class=\"nl-product-card__title nl-product--trim\" id=\"title__promolisting-153-1826-6\">Spray Nine Glass/Stainless Steel Surface Cleaner Spray, Streak-Free Shine, 600-g</div>,\n",
       " <div class=\"nl-product-card__title nl-product--trim\" id=\"title__promolisting-037-4637-6\">MotoMaster Handheld Work Light, PWR POD Compatible</div>,\n",
       " <div class=\"nl-product-card__title nl-product--trim\" id=\"title__promolisting-064-3441-0\">3M™ Filtrete™ Allergen Defense Micro Allergen Filter, MPR 1000, 16 x 25 x 1-in, 1-pk</div>,\n",
       " <div class=\"nl-product-card__title nl-product--trim\" id=\"title__promolisting-046-9315-0\">Diono Solana 2 Latchless Booster Car Seat</div>,\n",
       " <div class=\"nl-product-card__title nl-product--trim\" id=\"title__promolisting-063-4885-0\">LAICA Digital Body Composition Bathroom Scale, White, 400-lb</div>,\n",
       " <div class=\"nl-product-card__title nl-product--trim\" id=\"title__promolisting-043-8819-4\">NOMA iQ 35 Pint 2-Speed ENERGY STAR® Most Efficient Dehumidifier</div>,\n",
       " <div class=\"nl-product-card__title nl-product--trim\" id=\"title__promolisting-142-7440-2\">Petco Plush Racoon with Rope Dog Toy</div>]"
      ]
     },
     "execution_count": 103,
     "metadata": {},
     "output_type": "execute_result"
    }
   ],
   "source": [
    "nameofthegoods"
   ]
  },
  {
   "cell_type": "code",
   "execution_count": 100,
   "id": "6da30825",
   "metadata": {},
   "outputs": [],
   "source": [
    "def create_summary_list(nameofthegoods, stars_numofreviews, price, savings):\n",
    "    # Create an empty list to hold summaries\n",
    "    summary_list = []\n",
    "\n",
    "    # Assuming len(nameofthegoods) is the same as len(stars_numofreviews), len(price), and len(savings)\n",
    "    for i in range(len(nameofthegoods)):\n",
    "        # Extract the data and create a summary dictionary for each item\n",
    "        summary_dict = {\n",
    "            \"Name\": nameofthegoods[i].text.strip(),\n",
    "            \"Stars_NumOfReviews\": stars_numofreviews[i].text.strip(),\n",
    "            \"Price\": price[i].text.strip(),\n",
    "            \"Savings\": savings[i].text.strip()\n",
    "        }\n",
    "        # Append the summary dictionary to the list\n",
    "        summary_list.append(summary_dict)\n",
    "\n",
    "    # Return the list of summaries\n",
    "    return summary_list\n"
   ]
  },
  {
   "cell_type": "code",
   "execution_count": 101,
   "id": "47952a5e",
   "metadata": {},
   "outputs": [
    {
     "data": {
      "text/html": [
       "<div>\n",
       "<style scoped>\n",
       "    .dataframe tbody tr th:only-of-type {\n",
       "        vertical-align: middle;\n",
       "    }\n",
       "\n",
       "    .dataframe tbody tr th {\n",
       "        vertical-align: top;\n",
       "    }\n",
       "\n",
       "    .dataframe thead th {\n",
       "        text-align: right;\n",
       "    }\n",
       "</style>\n",
       "<table border=\"1\" class=\"dataframe\">\n",
       "  <thead>\n",
       "    <tr style=\"text-align: right;\">\n",
       "      <th></th>\n",
       "      <th>Name</th>\n",
       "      <th>Stars and</th>\n",
       "      <th>Price</th>\n",
       "      <th>Savings</th>\n",
       "    </tr>\n",
       "  </thead>\n",
       "  <tbody>\n",
       "    <tr>\n",
       "      <th>0</th>\n",
       "      <td>Chewmasters Chomp Dog Bar</td>\n",
       "      <td>0.0</td>\n",
       "      <td>$3.14</td>\n",
       "      <td>Save 10%</td>\n",
       "    </tr>\n",
       "    <tr>\n",
       "      <th>1</th>\n",
       "      <td>Petco Party Animal Plush Dog Toy</td>\n",
       "      <td>(0)</td>\n",
       "      <td>$3.50</td>\n",
       "      <td>Save 10%</td>\n",
       "    </tr>\n",
       "    <tr>\n",
       "      <th>2</th>\n",
       "      <td>Dawn EZ-Squeeze Ultra Dish Soap, Apple Blossom...</td>\n",
       "      <td>0.0</td>\n",
       "      <td>$4.49</td>\n",
       "      <td>Save 10%</td>\n",
       "    </tr>\n",
       "    <tr>\n",
       "      <th>3</th>\n",
       "      <td>Chuckit Amphibious Fetch Balls, 3-pk</td>\n",
       "      <td>(0)</td>\n",
       "      <td>$12.59</td>\n",
       "      <td>Save 10%</td>\n",
       "    </tr>\n",
       "    <tr>\n",
       "      <th>4</th>\n",
       "      <td>ApexFit E02L Smartwatch with Touchscreen Display</td>\n",
       "      <td>0.0</td>\n",
       "      <td>$29.99</td>\n",
       "      <td>2/3 Off (Save $60)</td>\n",
       "    </tr>\n",
       "  </tbody>\n",
       "</table>\n",
       "</div>"
      ],
      "text/plain": [
       "                                                Name Stars and    Price  \\\n",
       "0                          Chewmasters Chomp Dog Bar        0.0   $3.14   \n",
       "1                   Petco Party Animal Plush Dog Toy        (0)   $3.50   \n",
       "2  Dawn EZ-Squeeze Ultra Dish Soap, Apple Blossom...        0.0   $4.49   \n",
       "3               Chuckit Amphibious Fetch Balls, 3-pk        (0)  $12.59   \n",
       "4   ApexFit E02L Smartwatch with Touchscreen Display        0.0  $29.99   \n",
       "\n",
       "              Savings  \n",
       "0            Save 10%  \n",
       "1            Save 10%  \n",
       "2            Save 10%  \n",
       "3            Save 10%  \n",
       "4  2/3 Off (Save $60)  "
      ]
     },
     "execution_count": 101,
     "metadata": {},
     "output_type": "execute_result"
    }
   ],
   "source": [
    "# Import Pandas\n",
    "import pandas as pd\n",
    "\n",
    "# Convert the articles list to a Pandas DataFrame\n",
    "df = pd.DataFrame(summary_list)\n",
    "df.head()"
   ]
  },
  {
   "cell_type": "code",
   "execution_count": null,
   "id": "9ffa7adb",
   "metadata": {},
   "outputs": [],
   "source": []
  },
  {
   "cell_type": "code",
   "execution_count": null,
   "id": "b4de3916",
   "metadata": {},
   "outputs": [],
   "source": []
  },
  {
   "cell_type": "code",
   "execution_count": null,
   "id": "558b7457",
   "metadata": {},
   "outputs": [],
   "source": [
    "# browser.quit()"
   ]
  }
 ],
 "metadata": {
  "kernelspec": {
   "display_name": "Python 3 (ipykernel)",
   "language": "python",
   "name": "python3"
  },
  "language_info": {
   "codemirror_mode": {
    "name": "ipython",
    "version": 3
   },
   "file_extension": ".py",
   "mimetype": "text/x-python",
   "name": "python",
   "nbconvert_exporter": "python",
   "pygments_lexer": "ipython3",
   "version": "3.9.13"
  }
 },
 "nbformat": 4,
 "nbformat_minor": 5
}
